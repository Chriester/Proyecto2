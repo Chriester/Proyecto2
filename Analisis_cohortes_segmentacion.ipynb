{
 "cells": [
  {
   "cell_type": "code",
   "execution_count": 56,
   "id": "849eefc1-ee04-484d-ad15-4b04cebe629a",
   "metadata": {},
   "outputs": [],
   "source": [
    "import pandas as pd\n",
    "import seaborn as sns\n",
    "import matplotlib.pyplot as plt"
   ]
  },
  {
   "cell_type": "code",
   "execution_count": 300,
   "id": "6b76a80b-6bfe-4f8a-abb8-1eb69019901b",
   "metadata": {},
   "outputs": [],
   "source": [
    "cashrequest_df =pd.read_csv('./project_dataset/extract - cash request - data analyst.csv')\n",
    "fees_df  =pd.read_csv('./project_dataset/extract - fees - data analyst - .csv')"
   ]
  },
  {
   "cell_type": "code",
   "execution_count": 302,
   "id": "508c160f-52a8-4d17-a808-53d16d7538fe",
   "metadata": {},
   "outputs": [
    {
     "name": "stdout",
     "output_type": "stream",
     "text": [
      "   user_id account_status\n",
      "0    804.0         active\n",
      "1    231.0         active\n",
      "2    191.0         active\n",
      "3    761.0         active\n",
      "4   7686.0         active\n",
      "   user_id account_status  cash_request_id\n",
      "0    804.0         active              NaN\n",
      "1    231.0         active              NaN\n",
      "2    191.0         active              NaN\n",
      "3    761.0         active              NaN\n",
      "4   7686.0         active              NaN\n"
     ]
    }
   ],
   "source": [
    "import pandas as pd\n",
    "\n",
    "# Paso 1: Crear la columna 'account_status' en cashrequest_df\n",
    "cashrequest_df['account_status'] = cashrequest_df['user_id'].apply(\n",
    "    lambda x: 'active' if pd.notna(x) else 'inactive'\n",
    ")\n",
    "\n",
    "# Verificar que la columna 'account_status' ha sido creada correctamente\n",
    "print(cashrequest_df[['user_id', 'account_status']].head())\n",
    "\n",
    "# Paso 2: Realizar la fusión entre 'cashrequest_df' y 'fees_df' usando 'id' y 'cash_request_id'\n",
    "merged_df = pd.merge(cashrequest_df, fees_df, left_on='id', right_on='cash_request_id', how='left')\n",
    "\n",
    "# Paso 3: Verificar si la columna 'account_status' está presente en merged_df\n",
    "print(merged_df[['user_id', 'account_status', 'cash_request_id']].head())\n"
   ]
  },
  {
   "cell_type": "code",
   "execution_count": 304,
   "id": "bb0f2a70-53b4-4d08-b293-61d764e4dd09",
   "metadata": {},
   "outputs": [
    {
     "name": "stdout",
     "output_type": "stream",
     "text": [
      "   user_id  deleted_account_id account_status\n",
      "0    804.0                 NaN         active\n",
      "1    231.0                 NaN         active\n",
      "2    191.0                 NaN         active\n",
      "3    761.0                 NaN         active\n",
      "4   7686.0                 NaN         active\n"
     ]
    }
   ],
   "source": [
    "# Verificar el estado de algunas filas\n",
    "print(merged_df[['user_id', 'deleted_account_id', 'account_status']].head())\n",
    "\n"
   ]
  },
  {
   "cell_type": "code",
   "execution_count": 306,
   "id": "95e7fe2e-3274-4843-8150-1c2232d0e010",
   "metadata": {},
   "outputs": [],
   "source": [
    "active_users_df = merged_df[merged_df['account_status'] == 'active']\n",
    "inactive_users_df = merged_df[merged_df['account_status'] == 'inactive']\n"
   ]
  },
  {
   "cell_type": "code",
   "execution_count": 308,
   "id": "1858303c-0eb4-452c-bd11-a33dbfe9f611",
   "metadata": {},
   "outputs": [
    {
     "name": "stdout",
     "output_type": "stream",
     "text": [
      "Index(['id_x', 'amount', 'status_x', 'created_at_x', 'updated_at_x', 'user_id',\n",
      "       'moderated_at', 'deleted_account_id', 'reimbursement_date',\n",
      "       'cash_request_received_date', 'money_back_date', 'transfer_type',\n",
      "       'send_at', 'recovery_status', 'reco_creation', 'reco_last_update',\n",
      "       'account_status', 'id_y', 'cash_request_id', 'type', 'status_y',\n",
      "       'category', 'total_amount', 'reason', 'created_at_y', 'updated_at_y',\n",
      "       'paid_at', 'from_date', 'to_date', 'charge_moment'],\n",
      "      dtype='object')\n",
      "   id_x  amount  status_x                   created_at_x  \\\n",
      "0     5   100.0  rejected  2019-12-10 19:05:21.596873+00   \n",
      "1    70   100.0  rejected   2019-12-10 19:50:12.34778+00   \n",
      "2     7   100.0  rejected   2019-12-10 19:13:35.82546+00   \n",
      "3    10    99.0  rejected  2019-12-10 19:16:10.880172+00   \n",
      "4  1594   100.0  rejected  2020-05-06 09:59:38.877376+00   \n",
      "\n",
      "                    updated_at_x  user_id                   moderated_at  \\\n",
      "0   2019-12-11 16:47:42.40783+00    804.0  2019-12-11 16:47:42.405646+00   \n",
      "1  2019-12-11 14:24:22.900054+00    231.0  2019-12-11 14:24:22.897988+00   \n",
      "2  2019-12-11 09:46:59.779773+00    191.0  2019-12-11 09:46:59.777728+00   \n",
      "3  2019-12-18 14:26:18.136163+00    761.0  2019-12-18 14:26:18.128407+00   \n",
      "4   2020-05-07 09:21:55.34008+00   7686.0  2020-05-07 09:21:55.320193+00   \n",
      "\n",
      "   deleted_account_id             reimbursement_date  \\\n",
      "0                 NaN  2020-01-09 19:05:21.596363+00   \n",
      "1                 NaN   2020-01-09 19:50:12.34778+00   \n",
      "2                 NaN  2020-01-09 19:13:35.825041+00   \n",
      "3                 NaN  2020-01-09 19:16:10.879606+00   \n",
      "4                 NaN         2020-06-05 22:00:00+00   \n",
      "\n",
      "  cash_request_received_date  ... status_y category total_amount reason  \\\n",
      "0                        NaN  ...      NaN      NaN          NaN    NaN   \n",
      "1                        NaN  ...      NaN      NaN          NaN    NaN   \n",
      "2                        NaN  ...      NaN      NaN          NaN    NaN   \n",
      "3                        NaN  ...      NaN      NaN          NaN    NaN   \n",
      "4                        NaN  ...      NaN      NaN          NaN    NaN   \n",
      "\n",
      "  created_at_y updated_at_y paid_at  from_date  to_date charge_moment  \n",
      "0          NaN          NaN     NaN        NaN      NaN           NaN  \n",
      "1          NaN          NaN     NaN        NaN      NaN           NaN  \n",
      "2          NaN          NaN     NaN        NaN      NaN           NaN  \n",
      "3          NaN          NaN     NaN        NaN      NaN           NaN  \n",
      "4          NaN          NaN     NaN        NaN      NaN           NaN  \n",
      "\n",
      "[5 rows x 30 columns]\n"
     ]
    }
   ],
   "source": [
    "print(merged_df.columns)  # Ver las columnas del merged_df\n",
    "print(merged_df.head())    # Ver las primeras filas para asegurarnos de que los datos son correctos\n"
   ]
  },
  {
   "cell_type": "code",
   "execution_count": 310,
   "id": "b0d75849-9edf-40f7-89a0-dc13de3d2630",
   "metadata": {},
   "outputs": [
    {
     "name": "stdout",
     "output_type": "stream",
     "text": [
      "user_id             2572\n",
      "account_status         0\n",
      "amount                 0\n",
      "cash_request_id    11037\n",
      "dtype: int64\n"
     ]
    }
   ],
   "source": [
    "# Verificar valores nulos en las columnas clave\n",
    "print(merged_df[['user_id', 'account_status', 'amount', 'cash_request_id']].isnull().sum())\n"
   ]
  },
  {
   "cell_type": "code",
   "execution_count": 312,
   "id": "b87cb491-26a6-447f-9687-1606d9106cd6",
   "metadata": {},
   "outputs": [
    {
     "name": "stdout",
     "output_type": "stream",
     "text": [
      "Total amount requested by active users: 2464647.0\n",
      "Total amount requested by inactive users: 215732.0\n"
     ]
    }
   ],
   "source": [
    "total_amount_active = active_users_df['amount'].sum()\n",
    "total_amount_inactive = inactive_users_df['amount'].sum()\n",
    "\n",
    "print(f\"Total amount requested by active users: {total_amount_active}\")\n",
    "print(f\"Total amount requested by inactive users: {total_amount_inactive}\")\n"
   ]
  },
  {
   "cell_type": "code",
   "execution_count": 314,
   "id": "0f371d72-1aed-469c-95ed-22f6d2469c19",
   "metadata": {},
   "outputs": [
    {
     "name": "stdout",
     "output_type": "stream",
     "text": [
      "   id_x  amount  status_x                   created_at_x  \\\n",
      "0     5   100.0  rejected  2019-12-10 19:05:21.596873+00   \n",
      "1    70   100.0  rejected   2019-12-10 19:50:12.34778+00   \n",
      "2     7   100.0  rejected   2019-12-10 19:13:35.82546+00   \n",
      "3    10    99.0  rejected  2019-12-10 19:16:10.880172+00   \n",
      "4  1594   100.0  rejected  2020-05-06 09:59:38.877376+00   \n",
      "\n",
      "                    updated_at_x  user_id                   moderated_at  \\\n",
      "0   2019-12-11 16:47:42.40783+00    804.0  2019-12-11 16:47:42.405646+00   \n",
      "1  2019-12-11 14:24:22.900054+00    231.0  2019-12-11 14:24:22.897988+00   \n",
      "2  2019-12-11 09:46:59.779773+00    191.0  2019-12-11 09:46:59.777728+00   \n",
      "3  2019-12-18 14:26:18.136163+00    761.0  2019-12-18 14:26:18.128407+00   \n",
      "4   2020-05-07 09:21:55.34008+00   7686.0  2020-05-07 09:21:55.320193+00   \n",
      "\n",
      "   deleted_account_id             reimbursement_date  \\\n",
      "0                 NaN  2020-01-09 19:05:21.596363+00   \n",
      "1                 NaN   2020-01-09 19:50:12.34778+00   \n",
      "2                 NaN  2020-01-09 19:13:35.825041+00   \n",
      "3                 NaN  2020-01-09 19:16:10.879606+00   \n",
      "4                 NaN         2020-06-05 22:00:00+00   \n",
      "\n",
      "  cash_request_received_date  ... total_amount reason created_at_y  \\\n",
      "0                        NaN  ...          NaN    NaN          NaN   \n",
      "1                        NaN  ...          NaN    NaN          NaN   \n",
      "2                        NaN  ...          NaN    NaN          NaN   \n",
      "3                        NaN  ...          NaN    NaN          NaN   \n",
      "4                        NaN  ...          NaN    NaN          NaN   \n",
      "\n",
      "  updated_at_y paid_at from_date to_date  charge_moment  num_requests  \\\n",
      "0          NaN     NaN       NaN     NaN            NaN           1.0   \n",
      "1          NaN     NaN       NaN     NaN            NaN          10.0   \n",
      "2          NaN     NaN       NaN     NaN            NaN           2.0   \n",
      "3          NaN     NaN       NaN     NaN            NaN           1.0   \n",
      "4          NaN     NaN       NaN     NaN            NaN           1.0   \n",
      "\n",
      "  total_requested  \n",
      "0           100.0  \n",
      "1          1000.0  \n",
      "2           200.0  \n",
      "3            99.0  \n",
      "4           100.0  \n",
      "\n",
      "[5 rows x 32 columns]\n"
     ]
    }
   ],
   "source": [
    "# Número de solicitudes por usuario\n",
    "requests_per_user = merged_df.groupby('user_id').size().reset_index(name='num_requests')\n",
    "\n",
    "# Total de dinero solicitado por usuario\n",
    "total_per_user = merged_df.groupby('user_id')['amount'].sum().reset_index(name='total_requested')\n",
    "\n",
    "# Unir estos resultados al merged_df\n",
    "merged_df = merged_df.merge(requests_per_user, on='user_id', how='left')\n",
    "merged_df = merged_df.merge(total_per_user, on='user_id', how='left')\n",
    "\n",
    "print(merged_df.head())\n"
   ]
  },
  {
   "cell_type": "code",
   "execution_count": 316,
   "id": "e3c7c3f4-2d57-4daa-87df-ab7882d8c50f",
   "metadata": {},
   "outputs": [
    {
     "name": "stdout",
     "output_type": "stream",
     "text": [
      "id_x                              0\n",
      "amount                            0\n",
      "status_x                          0\n",
      "created_at_x                      0\n",
      "updated_at_x                      0\n",
      "user_id                        2572\n",
      "moderated_at                  10335\n",
      "deleted_account_id            29521\n",
      "reimbursement_date                0\n",
      "cash_request_received_date     7945\n",
      "money_back_date                8177\n",
      "transfer_type                     0\n",
      "send_at                        9416\n",
      "recovery_status               24894\n",
      "reco_creation                 24894\n",
      "reco_last_update              24894\n",
      "account_status                    0\n",
      "id_y                          11037\n",
      "cash_request_id               11037\n",
      "type                          11037\n",
      "status_y                      11037\n",
      "category                      29898\n",
      "total_amount                  11037\n",
      "reason                        11037\n",
      "created_at_y                  11037\n",
      "updated_at_y                  11037\n",
      "paid_at                       16563\n",
      "from_date                     24328\n",
      "to_date                       24328\n",
      "charge_moment                 11037\n",
      "num_requests                   2572\n",
      "total_requested                2572\n",
      "dtype: int64\n"
     ]
    }
   ],
   "source": [
    "# Eliminamos filas con valores nulos en las columnas clave\n",
    "merged_df = merged_df.dropna(subset=['amount', 'account_status'])\n",
    "\n",
    "# Verificamos los nulos restantes\n",
    "print(merged_df.isnull().sum())\n"
   ]
  },
  {
   "cell_type": "code",
   "execution_count": 318,
   "id": "d7ec5799-d8ed-448e-8426-98fa39c1c22b",
   "metadata": {},
   "outputs": [
    {
     "data": {
      "image/png": "[encoded data removed]",
      "text/plain": [
       "<Figure size 1000x600 with 1 Axes>"
      ]
     },
     "metadata": {},
     "output_type": "display_data"
    },
    {
     "data": {
      "image/png": "[encoded data removed]",
      "text/plain": [
       "<Figure size 1000x600 with 1 Axes>"
      ]
     },
     "metadata": {},
     "output_type": "display_data"
    },
    {
     "data": {
      "image/png": "[encoded data removed]",
      "text/plain": [
       "<Figure size 640x480 with 1 Axes>"
      ]
     },
     "metadata": {},
     "output_type": "display_data"
    }
   ],
   "source": [
    "import matplotlib.pyplot as plt\n",
    "import seaborn as sns\n",
    "\n",
    "# Histograma de los montos solicitados\n",
    "plt.figure(figsize=(10, 6))\n",
    "sns.histplot(merged_df['amount'], kde=True)\n",
    "plt.title('Distribución de Montos Solicitados')\n",
    "plt.xlabel('Monto')\n",
    "plt.ylabel('Frecuencia')\n",
    "plt.show()\n",
    "\n",
    "# Boxplot de amount por account_status\n",
    "plt.figure(figsize=(10, 6))\n",
    "sns.boxplot(x='account_status', y='amount', data=merged_df)\n",
    "plt.title('Monto Solicitado por Estado de la Cuenta')\n",
    "plt.show()\n",
    "\n",
    "# Correlación entre cantidad solicitada y número de solicitudes por usuario\n",
    "sns.scatterplot(x='num_requests', y='amount', data=merged_df)\n",
    "plt.title('Relación entre Número de Solicitudes y Monto Solicitado')\n",
    "plt.show()\n"
   ]
  },
  {
   "cell_type": "code",
   "execution_count": 320,
   "id": "fe6f61de-9c74-4b0f-89ba-326e53cad0bf",
   "metadata": {},
   "outputs": [
    {
     "name": "stdout",
     "output_type": "stream",
     "text": [
      "account_status\n",
      "active      29522\n",
      "inactive     2572\n",
      "Name: count, dtype: int64\n"
     ]
    }
   ],
   "source": [
    "# Contar la cantidad de cuentas activas e inactivas\n",
    "account_status_counts = merged_df['account_status'].value_counts()\n",
    "\n",
    "# Mostrar el resultado\n",
    "print(account_status_counts)\n"
   ]
  },
  {
   "cell_type": "code",
   "execution_count": 322,
   "id": "b4a88dc1-95ef-47b6-8685-7e5bb92b6b97",
   "metadata": {},
   "outputs": [
    {
     "name": "stdout",
     "output_type": "stream",
     "text": [
      "account_status\n",
      "active      83.485096\n",
      "inactive    83.877138\n",
      "Name: amount, dtype: float64\n"
     ]
    }
   ],
   "source": [
    "# Promedio de montos solicitados por cuentas activas e inactivas\n",
    "average_amount_by_status = merged_df.groupby('account_status')['amount'].mean()\n",
    "\n",
    "# Mostrar el resultado\n",
    "print(average_amount_by_status)\n"
   ]
  },
  {
   "cell_type": "code",
   "execution_count": 324,
   "id": "e7ad6e75-cacc-4257-80d9-a109f24e6861",
   "metadata": {},
   "outputs": [
    {
     "data": {
      "image/png": "[encoded data removed]",
      "text/plain": [
       "<Figure size 640x480 with 1 Axes>"
      ]
     },
     "metadata": {},
     "output_type": "display_data"
    }
   ],
   "source": [
    "import matplotlib.pyplot as plt\n",
    "\n",
    "# Gráfico de barras de cuentas activas vs. inactivas\n",
    "account_status_counts.plot(kind='bar', color=['green', 'red'])\n",
    "plt.title('Número de cuentas activas vs inactivas')\n",
    "plt.xlabel('Estado de la cuenta')\n",
    "plt.ylabel('Cantidad de cuentas')\n",
    "plt.show()\n"
   ]
  },
  {
   "cell_type": "code",
   "execution_count": 346,
   "id": "81b5466e-1057-4c97-a3cb-3f8a4af3a4fa",
   "metadata": {},
   "outputs": [
    {
     "name": "stdout",
     "output_type": "stream",
     "text": [
      "Cuentas activas: 29522 registros\n",
      "Cuentas inactivas: 2573 registros\n",
      "Index(['id_x', 'amount', 'status_x', 'created_at_x', 'updated_at_x', 'user_id',\n",
      "       'moderated_at', 'deleted_account_id', 'reimbursement_date',\n",
      "       'cash_request_received_date', 'money_back_date', 'transfer_type',\n",
      "       'send_at', 'recovery_status', 'reco_creation', 'reco_last_update',\n",
      "       'account_status', 'id_y', 'cash_request_id', 'type', 'status_y',\n",
      "       'category', 'total_amount', 'reason', 'created_at_y', 'updated_at_y',\n",
      "       'paid_at', 'from_date', 'to_date', 'charge_moment', 'num_requests',\n",
      "       'total_requested'],\n",
      "      dtype='object')\n",
      "Index(['id_x', 'amount', 'status_x', 'created_at_x', 'updated_at_x', 'user_id',\n",
      "       'moderated_at', 'deleted_account_id', 'reimbursement_date',\n",
      "       'cash_request_received_date', 'money_back_date', 'transfer_type',\n",
      "       'send_at', 'recovery_status', 'reco_creation', 'reco_last_update',\n",
      "       'account_status', 'id_y', 'cash_request_id', 'type', 'status_y',\n",
      "       'category', 'total_amount', 'reason', 'created_at_y', 'updated_at_y',\n",
      "       'paid_at', 'from_date', 'to_date', 'charge_moment', 'num_requests',\n",
      "       'total_requested'],\n",
      "      dtype='object')\n"
     ]
    }
   ],
   "source": [
    "# Filtramos las cuentas activas e inactivas basándonos en user_id (activo) y deleted_account_id (inactivo)\n",
    "active_df = merged_df[merged_df['user_id'].notnull()]\n",
    "inactive_df = merged_df[merged_df['deleted_account_id'].notnull()]\n",
    "\n",
    "# Verificamos si hay datos nulos\n",
    "print(f'Cuentas activas: {active_df.shape[0]} registros')\n",
    "print(f'Cuentas inactivas: {inactive_df.shape[0]} registros')\n",
    "\n",
    "# Verificamos las columnas que tenemos\n",
    "print(active_df.columns)\n",
    "print(inactive_df.columns)\n"
   ]
  },
  {
   "cell_type": "code",
   "execution_count": 350,
   "id": "8a5b2107-a755-4534-82d3-68b2d3a111cd",
   "metadata": {},
   "outputs": [
    {
     "data": {
      "text/html": [
       "<div>\n",
       "<style scoped>\n",
       "    .dataframe tbody tr th:only-of-type {\n",
       "        vertical-align: middle;\n",
       "    }\n",
       "\n",
       "    .dataframe tbody tr th {\n",
       "        vertical-align: top;\n",
       "    }\n",
       "\n",
       "    .dataframe thead th {\n",
       "        text-align: right;\n",
       "    }\n",
       "</style>\n",
       "<table border=\"1\" class=\"dataframe\">\n",
       "  <thead>\n",
       "    <tr style=\"text-align: right;\">\n",
       "      <th></th>\n",
       "      <th>id_x</th>\n",
       "      <th>amount</th>\n",
       "      <th>status_x</th>\n",
       "      <th>created_at_x</th>\n",
       "      <th>updated_at_x</th>\n",
       "      <th>user_id</th>\n",
       "      <th>moderated_at</th>\n",
       "      <th>deleted_account_id</th>\n",
       "      <th>reimbursement_date</th>\n",
       "      <th>cash_request_received_date</th>\n",
       "      <th>...</th>\n",
       "      <th>total_amount</th>\n",
       "      <th>reason</th>\n",
       "      <th>created_at_y</th>\n",
       "      <th>updated_at_y</th>\n",
       "      <th>paid_at</th>\n",
       "      <th>from_date</th>\n",
       "      <th>to_date</th>\n",
       "      <th>charge_moment</th>\n",
       "      <th>num_requests</th>\n",
       "      <th>total_requested</th>\n",
       "    </tr>\n",
       "  </thead>\n",
       "  <tbody>\n",
       "    <tr>\n",
       "      <th>0</th>\n",
       "      <td>5</td>\n",
       "      <td>100.0</td>\n",
       "      <td>rejected</td>\n",
       "      <td>2019-12-10 19:05:21.596873+00</td>\n",
       "      <td>2019-12-11 16:47:42.40783+00</td>\n",
       "      <td>804.0</td>\n",
       "      <td>2019-12-11 16:47:42.405646+00</td>\n",
       "      <td>NaN</td>\n",
       "      <td>2020-01-09 19:05:21.596363+00</td>\n",
       "      <td>NaN</td>\n",
       "      <td>...</td>\n",
       "      <td>NaN</td>\n",
       "      <td>NaN</td>\n",
       "      <td>NaN</td>\n",
       "      <td>NaN</td>\n",
       "      <td>NaN</td>\n",
       "      <td>NaN</td>\n",
       "      <td>NaN</td>\n",
       "      <td>NaN</td>\n",
       "      <td>1.0</td>\n",
       "      <td>100.0</td>\n",
       "    </tr>\n",
       "    <tr>\n",
       "      <th>1</th>\n",
       "      <td>70</td>\n",
       "      <td>100.0</td>\n",
       "      <td>rejected</td>\n",
       "      <td>2019-12-10 19:50:12.34778+00</td>\n",
       "      <td>2019-12-11 14:24:22.900054+00</td>\n",
       "      <td>231.0</td>\n",
       "      <td>2019-12-11 14:24:22.897988+00</td>\n",
       "      <td>NaN</td>\n",
       "      <td>2020-01-09 19:50:12.34778+00</td>\n",
       "      <td>NaN</td>\n",
       "      <td>...</td>\n",
       "      <td>NaN</td>\n",
       "      <td>NaN</td>\n",
       "      <td>NaN</td>\n",
       "      <td>NaN</td>\n",
       "      <td>NaN</td>\n",
       "      <td>NaN</td>\n",
       "      <td>NaN</td>\n",
       "      <td>NaN</td>\n",
       "      <td>10.0</td>\n",
       "      <td>1000.0</td>\n",
       "    </tr>\n",
       "    <tr>\n",
       "      <th>2</th>\n",
       "      <td>7</td>\n",
       "      <td>100.0</td>\n",
       "      <td>rejected</td>\n",
       "      <td>2019-12-10 19:13:35.82546+00</td>\n",
       "      <td>2019-12-11 09:46:59.779773+00</td>\n",
       "      <td>191.0</td>\n",
       "      <td>2019-12-11 09:46:59.777728+00</td>\n",
       "      <td>NaN</td>\n",
       "      <td>2020-01-09 19:13:35.825041+00</td>\n",
       "      <td>NaN</td>\n",
       "      <td>...</td>\n",
       "      <td>NaN</td>\n",
       "      <td>NaN</td>\n",
       "      <td>NaN</td>\n",
       "      <td>NaN</td>\n",
       "      <td>NaN</td>\n",
       "      <td>NaN</td>\n",
       "      <td>NaN</td>\n",
       "      <td>NaN</td>\n",
       "      <td>2.0</td>\n",
       "      <td>200.0</td>\n",
       "    </tr>\n",
       "    <tr>\n",
       "      <th>3</th>\n",
       "      <td>10</td>\n",
       "      <td>99.0</td>\n",
       "      <td>rejected</td>\n",
       "      <td>2019-12-10 19:16:10.880172+00</td>\n",
       "      <td>2019-12-18 14:26:18.136163+00</td>\n",
       "      <td>761.0</td>\n",
       "      <td>2019-12-18 14:26:18.128407+00</td>\n",
       "      <td>NaN</td>\n",
       "      <td>2020-01-09 19:16:10.879606+00</td>\n",
       "      <td>NaN</td>\n",
       "      <td>...</td>\n",
       "      <td>NaN</td>\n",
       "      <td>NaN</td>\n",
       "      <td>NaN</td>\n",
       "      <td>NaN</td>\n",
       "      <td>NaN</td>\n",
       "      <td>NaN</td>\n",
       "      <td>NaN</td>\n",
       "      <td>NaN</td>\n",
       "      <td>1.0</td>\n",
       "      <td>99.0</td>\n",
       "    </tr>\n",
       "    <tr>\n",
       "      <th>4</th>\n",
       "      <td>1594</td>\n",
       "      <td>100.0</td>\n",
       "      <td>rejected</td>\n",
       "      <td>2020-05-06 09:59:38.877376+00</td>\n",
       "      <td>2020-05-07 09:21:55.34008+00</td>\n",
       "      <td>7686.0</td>\n",
       "      <td>2020-05-07 09:21:55.320193+00</td>\n",
       "      <td>NaN</td>\n",
       "      <td>2020-06-05 22:00:00+00</td>\n",
       "      <td>NaN</td>\n",
       "      <td>...</td>\n",
       "      <td>NaN</td>\n",
       "      <td>NaN</td>\n",
       "      <td>NaN</td>\n",
       "      <td>NaN</td>\n",
       "      <td>NaN</td>\n",
       "      <td>NaN</td>\n",
       "      <td>NaN</td>\n",
       "      <td>NaN</td>\n",
       "      <td>1.0</td>\n",
       "      <td>100.0</td>\n",
       "    </tr>\n",
       "    <tr>\n",
       "      <th>...</th>\n",
       "      <td>...</td>\n",
       "      <td>...</td>\n",
       "      <td>...</td>\n",
       "      <td>...</td>\n",
       "      <td>...</td>\n",
       "      <td>...</td>\n",
       "      <td>...</td>\n",
       "      <td>...</td>\n",
       "      <td>...</td>\n",
       "      <td>...</td>\n",
       "      <td>...</td>\n",
       "      <td>...</td>\n",
       "      <td>...</td>\n",
       "      <td>...</td>\n",
       "      <td>...</td>\n",
       "      <td>...</td>\n",
       "      <td>...</td>\n",
       "      <td>...</td>\n",
       "      <td>...</td>\n",
       "      <td>...</td>\n",
       "      <td>...</td>\n",
       "    </tr>\n",
       "    <tr>\n",
       "      <th>32089</th>\n",
       "      <td>22357</td>\n",
       "      <td>100.0</td>\n",
       "      <td>money_back</td>\n",
       "      <td>2020-10-20 07:58:04.006937+00</td>\n",
       "      <td>2021-02-05 12:19:30.656816+00</td>\n",
       "      <td>82122.0</td>\n",
       "      <td>NaN</td>\n",
       "      <td>NaN</td>\n",
       "      <td>2021-02-05 11:00:00+00</td>\n",
       "      <td>2020-10-21</td>\n",
       "      <td>...</td>\n",
       "      <td>5.0</td>\n",
       "      <td>Instant Payment Cash Request 22357</td>\n",
       "      <td>2020-10-20 07:58:19.637461+00</td>\n",
       "      <td>2020-10-20 07:58:19.637491+00</td>\n",
       "      <td>2021-02-05 12:19:30.685779+00</td>\n",
       "      <td>NaN</td>\n",
       "      <td>NaN</td>\n",
       "      <td>after</td>\n",
       "      <td>2.0</td>\n",
       "      <td>200.0</td>\n",
       "    </tr>\n",
       "    <tr>\n",
       "      <th>32090</th>\n",
       "      <td>20256</td>\n",
       "      <td>100.0</td>\n",
       "      <td>money_back</td>\n",
       "      <td>2020-10-10 05:40:55.700422+00</td>\n",
       "      <td>2021-02-05 13:14:19.707627+00</td>\n",
       "      <td>64517.0</td>\n",
       "      <td>NaN</td>\n",
       "      <td>NaN</td>\n",
       "      <td>2021-02-05 11:00:00+00</td>\n",
       "      <td>2020-10-12</td>\n",
       "      <td>...</td>\n",
       "      <td>5.0</td>\n",
       "      <td>Postpone Cash Request 20256</td>\n",
       "      <td>2020-10-30 17:08:16.906449+00</td>\n",
       "      <td>2020-10-30 17:08:21.967966+00</td>\n",
       "      <td>2020-10-30 17:08:21.416796+00</td>\n",
       "      <td>2020-11-06 11:00:00+00</td>\n",
       "      <td>2020-12-07 11:00:00+00</td>\n",
       "      <td>before</td>\n",
       "      <td>2.0</td>\n",
       "      <td>200.0</td>\n",
       "    </tr>\n",
       "    <tr>\n",
       "      <th>32091</th>\n",
       "      <td>20256</td>\n",
       "      <td>100.0</td>\n",
       "      <td>money_back</td>\n",
       "      <td>2020-10-10 05:40:55.700422+00</td>\n",
       "      <td>2021-02-05 13:14:19.707627+00</td>\n",
       "      <td>64517.0</td>\n",
       "      <td>NaN</td>\n",
       "      <td>NaN</td>\n",
       "      <td>2021-02-05 11:00:00+00</td>\n",
       "      <td>2020-10-12</td>\n",
       "      <td>...</td>\n",
       "      <td>5.0</td>\n",
       "      <td>Instant Payment Cash Request 20256</td>\n",
       "      <td>2020-10-10 05:42:11.679401+00</td>\n",
       "      <td>2020-10-13 14:25:03.460352+00</td>\n",
       "      <td>2021-02-05 13:14:19.731397+00</td>\n",
       "      <td>NaN</td>\n",
       "      <td>NaN</td>\n",
       "      <td>after</td>\n",
       "      <td>2.0</td>\n",
       "      <td>200.0</td>\n",
       "    </tr>\n",
       "    <tr>\n",
       "      <th>32092</th>\n",
       "      <td>19886</td>\n",
       "      <td>100.0</td>\n",
       "      <td>direct_debit_sent</td>\n",
       "      <td>2020-10-08 14:16:52.155661+00</td>\n",
       "      <td>2021-01-05 15:45:52.645536+00</td>\n",
       "      <td>44867.0</td>\n",
       "      <td>NaN</td>\n",
       "      <td>NaN</td>\n",
       "      <td>2021-02-05 11:00:00+00</td>\n",
       "      <td>2020-10-10</td>\n",
       "      <td>...</td>\n",
       "      <td>5.0</td>\n",
       "      <td>Postpone Cash Request 19886</td>\n",
       "      <td>2020-10-10 21:22:00.083739+00</td>\n",
       "      <td>2020-10-13 14:25:18.501716+00</td>\n",
       "      <td>2020-10-10 21:22:04.456828+00</td>\n",
       "      <td>2020-11-06 22:00:00+00</td>\n",
       "      <td>2020-12-06 11:00:00+00</td>\n",
       "      <td>before</td>\n",
       "      <td>3.0</td>\n",
       "      <td>300.0</td>\n",
       "    </tr>\n",
       "    <tr>\n",
       "      <th>32093</th>\n",
       "      <td>19886</td>\n",
       "      <td>100.0</td>\n",
       "      <td>direct_debit_sent</td>\n",
       "      <td>2020-10-08 14:16:52.155661+00</td>\n",
       "      <td>2021-01-05 15:45:52.645536+00</td>\n",
       "      <td>44867.0</td>\n",
       "      <td>NaN</td>\n",
       "      <td>NaN</td>\n",
       "      <td>2021-02-05 11:00:00+00</td>\n",
       "      <td>2020-10-10</td>\n",
       "      <td>...</td>\n",
       "      <td>5.0</td>\n",
       "      <td>Instant Payment Cash Request 19886</td>\n",
       "      <td>2020-10-08 14:17:09.126909+00</td>\n",
       "      <td>2020-10-13 14:25:16.470702+00</td>\n",
       "      <td>2021-02-11 04:24:07.529815+00</td>\n",
       "      <td>NaN</td>\n",
       "      <td>NaN</td>\n",
       "      <td>after</td>\n",
       "      <td>3.0</td>\n",
       "      <td>300.0</td>\n",
       "    </tr>\n",
       "  </tbody>\n",
       "</table>\n",
       "<p>29522 rows × 32 columns</p>\n",
       "</div>"
      ],
      "text/plain": [
       "        id_x  amount           status_x                   created_at_x  \\\n",
       "0          5   100.0           rejected  2019-12-10 19:05:21.596873+00   \n",
       "1         70   100.0           rejected   2019-12-10 19:50:12.34778+00   \n",
       "2          7   100.0           rejected   2019-12-10 19:13:35.82546+00   \n",
       "3         10    99.0           rejected  2019-12-10 19:16:10.880172+00   \n",
       "4       1594   100.0           rejected  2020-05-06 09:59:38.877376+00   \n",
       "...      ...     ...                ...                            ...   \n",
       "32089  22357   100.0         money_back  2020-10-20 07:58:04.006937+00   \n",
       "32090  20256   100.0         money_back  2020-10-10 05:40:55.700422+00   \n",
       "32091  20256   100.0         money_back  2020-10-10 05:40:55.700422+00   \n",
       "32092  19886   100.0  direct_debit_sent  2020-10-08 14:16:52.155661+00   \n",
       "32093  19886   100.0  direct_debit_sent  2020-10-08 14:16:52.155661+00   \n",
       "\n",
       "                        updated_at_x  user_id                   moderated_at  \\\n",
       "0       2019-12-11 16:47:42.40783+00    804.0  2019-12-11 16:47:42.405646+00   \n",
       "1      2019-12-11 14:24:22.900054+00    231.0  2019-12-11 14:24:22.897988+00   \n",
       "2      2019-12-11 09:46:59.779773+00    191.0  2019-12-11 09:46:59.777728+00   \n",
       "3      2019-12-18 14:26:18.136163+00    761.0  2019-12-18 14:26:18.128407+00   \n",
       "4       2020-05-07 09:21:55.34008+00   7686.0  2020-05-07 09:21:55.320193+00   \n",
       "...                              ...      ...                            ...   \n",
       "32089  2021-02-05 12:19:30.656816+00  82122.0                            NaN   \n",
       "32090  2021-02-05 13:14:19.707627+00  64517.0                            NaN   \n",
       "32091  2021-02-05 13:14:19.707627+00  64517.0                            NaN   \n",
       "32092  2021-01-05 15:45:52.645536+00  44867.0                            NaN   \n",
       "32093  2021-01-05 15:45:52.645536+00  44867.0                            NaN   \n",
       "\n",
       "       deleted_account_id             reimbursement_date  \\\n",
       "0                     NaN  2020-01-09 19:05:21.596363+00   \n",
       "1                     NaN   2020-01-09 19:50:12.34778+00   \n",
       "2                     NaN  2020-01-09 19:13:35.825041+00   \n",
       "3                     NaN  2020-01-09 19:16:10.879606+00   \n",
       "4                     NaN         2020-06-05 22:00:00+00   \n",
       "...                   ...                            ...   \n",
       "32089                 NaN         2021-02-05 11:00:00+00   \n",
       "32090                 NaN         2021-02-05 11:00:00+00   \n",
       "32091                 NaN         2021-02-05 11:00:00+00   \n",
       "32092                 NaN         2021-02-05 11:00:00+00   \n",
       "32093                 NaN         2021-02-05 11:00:00+00   \n",
       "\n",
       "      cash_request_received_date  ... total_amount  \\\n",
       "0                            NaN  ...          NaN   \n",
       "1                            NaN  ...          NaN   \n",
       "2                            NaN  ...          NaN   \n",
       "3                            NaN  ...          NaN   \n",
       "4                            NaN  ...          NaN   \n",
       "...                          ...  ...          ...   \n",
       "32089                 2020-10-21  ...          5.0   \n",
       "32090                 2020-10-12  ...          5.0   \n",
       "32091                 2020-10-12  ...          5.0   \n",
       "32092                 2020-10-10  ...          5.0   \n",
       "32093                 2020-10-10  ...          5.0   \n",
       "\n",
       "                                   reason                   created_at_y  \\\n",
       "0                                     NaN                            NaN   \n",
       "1                                     NaN                            NaN   \n",
       "2                                     NaN                            NaN   \n",
       "3                                     NaN                            NaN   \n",
       "4                                     NaN                            NaN   \n",
       "...                                   ...                            ...   \n",
       "32089  Instant Payment Cash Request 22357  2020-10-20 07:58:19.637461+00   \n",
       "32090         Postpone Cash Request 20256  2020-10-30 17:08:16.906449+00   \n",
       "32091  Instant Payment Cash Request 20256  2020-10-10 05:42:11.679401+00   \n",
       "32092         Postpone Cash Request 19886  2020-10-10 21:22:00.083739+00   \n",
       "32093  Instant Payment Cash Request 19886  2020-10-08 14:17:09.126909+00   \n",
       "\n",
       "                        updated_at_y                        paid_at  \\\n",
       "0                                NaN                            NaN   \n",
       "1                                NaN                            NaN   \n",
       "2                                NaN                            NaN   \n",
       "3                                NaN                            NaN   \n",
       "4                                NaN                            NaN   \n",
       "...                              ...                            ...   \n",
       "32089  2020-10-20 07:58:19.637491+00  2021-02-05 12:19:30.685779+00   \n",
       "32090  2020-10-30 17:08:21.967966+00  2020-10-30 17:08:21.416796+00   \n",
       "32091  2020-10-13 14:25:03.460352+00  2021-02-05 13:14:19.731397+00   \n",
       "32092  2020-10-13 14:25:18.501716+00  2020-10-10 21:22:04.456828+00   \n",
       "32093  2020-10-13 14:25:16.470702+00  2021-02-11 04:24:07.529815+00   \n",
       "\n",
       "                    from_date                 to_date  charge_moment  \\\n",
       "0                         NaN                     NaN            NaN   \n",
       "1                         NaN                     NaN            NaN   \n",
       "2                         NaN                     NaN            NaN   \n",
       "3                         NaN                     NaN            NaN   \n",
       "4                         NaN                     NaN            NaN   \n",
       "...                       ...                     ...            ...   \n",
       "32089                     NaN                     NaN          after   \n",
       "32090  2020-11-06 11:00:00+00  2020-12-07 11:00:00+00         before   \n",
       "32091                     NaN                     NaN          after   \n",
       "32092  2020-11-06 22:00:00+00  2020-12-06 11:00:00+00         before   \n",
       "32093                     NaN                     NaN          after   \n",
       "\n",
       "       num_requests total_requested  \n",
       "0               1.0           100.0  \n",
       "1              10.0          1000.0  \n",
       "2               2.0           200.0  \n",
       "3               1.0            99.0  \n",
       "4               1.0           100.0  \n",
       "...             ...             ...  \n",
       "32089           2.0           200.0  \n",
       "32090           2.0           200.0  \n",
       "32091           2.0           200.0  \n",
       "32092           3.0           300.0  \n",
       "32093           3.0           300.0  \n",
       "\n",
       "[29522 rows x 32 columns]"
      ]
     },
     "execution_count": 350,
     "metadata": {},
     "output_type": "execute_result"
    }
   ],
   "source": [
    "active_df"
   ]
  },
  {
   "cell_type": "code",
   "execution_count": null,
   "id": "c5af4916-63b9-45b3-96ae-00a0399d7503",
   "metadata": {},
   "outputs": [],
   "source": []
  },
  {
   "cell_type": "code",
   "execution_count": null,
   "id": "d72e1562-fa0a-4363-92e5-8b400a90de2c",
   "metadata": {},
   "outputs": [],
   "source": []
  },
  {
   "cell_type": "code",
   "execution_count": 328,
   "id": "e6d425cc-8d2c-466d-a043-b6d87538e082",
   "metadata": {},
   "outputs": [
    {
     "name": "stdout",
     "output_type": "stream",
     "text": [
      "id_x                            int64\n",
      "amount                        float64\n",
      "status_x                       object\n",
      "created_at_x                   object\n",
      "updated_at_x                   object\n",
      "user_id                       float64\n",
      "moderated_at                   object\n",
      "deleted_account_id            float64\n",
      "reimbursement_date             object\n",
      "cash_request_received_date     object\n",
      "money_back_date                object\n",
      "transfer_type                  object\n",
      "send_at                        object\n",
      "recovery_status                object\n",
      "reco_creation                  object\n",
      "reco_last_update               object\n",
      "account_status                 object\n",
      "id_y                          float64\n",
      "cash_request_id               float64\n",
      "type                           object\n",
      "status_y                       object\n",
      "category                       object\n",
      "total_amount                  float64\n",
      "reason                         object\n",
      "created_at_y                   object\n",
      "updated_at_y                   object\n",
      "paid_at                        object\n",
      "from_date                      object\n",
      "to_date                        object\n",
      "charge_moment                  object\n",
      "num_requests                  float64\n",
      "total_requested               float64\n",
      "dtype: object\n",
      "id_x                            int64\n",
      "amount                        float64\n",
      "status_x                       object\n",
      "created_at_x                   object\n",
      "updated_at_x                   object\n",
      "user_id                       float64\n",
      "moderated_at                   object\n",
      "deleted_account_id            float64\n",
      "reimbursement_date             object\n",
      "cash_request_received_date     object\n",
      "money_back_date                object\n",
      "transfer_type                  object\n",
      "send_at                        object\n",
      "recovery_status                object\n",
      "reco_creation                  object\n",
      "reco_last_update               object\n",
      "account_status                 object\n",
      "id_y                          float64\n",
      "cash_request_id               float64\n",
      "type                           object\n",
      "status_y                       object\n",
      "category                       object\n",
      "total_amount                  float64\n",
      "reason                         object\n",
      "created_at_y                   object\n",
      "updated_at_y                   object\n",
      "paid_at                        object\n",
      "from_date                      object\n",
      "to_date                        object\n",
      "charge_moment                  object\n",
      "num_requests                  float64\n",
      "total_requested               float64\n",
      "dtype: object\n",
      "Columnas numéricas en active_df: Index(['id_x', 'amount', 'user_id', 'deleted_account_id', 'id_y',\n",
      "       'cash_request_id', 'total_amount', 'num_requests', 'total_requested'],\n",
      "      dtype='object')\n",
      "Columnas numéricas en inactive_df: Index(['id_x', 'amount', 'user_id', 'deleted_account_id', 'id_y',\n",
      "       'cash_request_id', 'total_amount', 'num_requests', 'total_requested'],\n",
      "      dtype='object')\n"
     ]
    }
   ],
   "source": [
    "# Revisar los tipos de datos de las columnas en active_df y inactive_df\n",
    "print(active_df.dtypes)\n",
    "print(inactive_df.dtypes)\n",
    "\n",
    "# Filtrar solo las columnas numéricas\n",
    "numerical_columns_active = active_df.select_dtypes(include=['number']).columns\n",
    "numerical_columns_inactive = inactive_df.select_dtypes(include=['number']).columns\n",
    "\n",
    "# Ver las columnas numéricas\n",
    "print(f'Columnas numéricas en active_df: {numerical_columns_active}')\n",
    "print(f'Columnas numéricas en inactive_df: {numerical_columns_inactive}')\n"
   ]
  },
  {
   "cell_type": "code",
   "execution_count": 330,
   "id": "206aacd5-d6be-4923-a1bd-d9a5321cf943",
   "metadata": {},
   "outputs": [
    {
     "name": "stderr",
     "output_type": "stream",
     "text": [
      "C:\\Users\\chris\\AppData\\Local\\Temp\\ipykernel_34836\\3219694605.py:2: SettingWithCopyWarning: \n",
      "A value is trying to be set on a copy of a slice from a DataFrame.\n",
      "Try using .loc[row_indexer,col_indexer] = value instead\n",
      "\n",
      "See the caveats in the documentation: https://pandas.pydata.org/pandas-docs/stable/user_guide/indexing.html#returning-a-view-versus-a-copy\n",
      "  active_df[numerical_columns_active] = active_df[numerical_columns_active].fillna(active_df[numerical_columns_active].mean())\n",
      "C:\\Users\\chris\\AppData\\Local\\Temp\\ipykernel_34836\\3219694605.py:3: SettingWithCopyWarning: \n",
      "A value is trying to be set on a copy of a slice from a DataFrame.\n",
      "Try using .loc[row_indexer,col_indexer] = value instead\n",
      "\n",
      "See the caveats in the documentation: https://pandas.pydata.org/pandas-docs/stable/user_guide/indexing.html#returning-a-view-versus-a-copy\n",
      "  inactive_df[numerical_columns_inactive] = inactive_df[numerical_columns_inactive].fillna(inactive_df[numerical_columns_inactive].mean())\n"
     ]
    }
   ],
   "source": [
    "# Imputar valores nulos solo en las columnas numéricas\n",
    "active_df[numerical_columns_active] = active_df[numerical_columns_active].fillna(active_df[numerical_columns_active].mean())\n",
    "inactive_df[numerical_columns_inactive] = inactive_df[numerical_columns_inactive].fillna(inactive_df[numerical_columns_inactive].mean())\n"
   ]
  },
  {
   "cell_type": "code",
   "execution_count": 332,
   "id": "2f3391b9-58a1-427b-928e-a80abc09595d",
   "metadata": {},
   "outputs": [
    {
     "name": "stdout",
     "output_type": "stream",
     "text": [
      "Valores nulos en cuentas activas después de imputar: \n",
      "id_x                  0\n",
      "amount                0\n",
      "user_id               0\n",
      "deleted_account_id    0\n",
      "id_y                  0\n",
      "cash_request_id       0\n",
      "total_amount          0\n",
      "num_requests          0\n",
      "total_requested       0\n",
      "dtype: int64\n",
      "Valores nulos en cuentas inactivas después de imputar: \n",
      "id_x                  0\n",
      "amount                0\n",
      "user_id               0\n",
      "deleted_account_id    0\n",
      "id_y                  0\n",
      "cash_request_id       0\n",
      "total_amount          0\n",
      "num_requests          0\n",
      "total_requested       0\n",
      "dtype: int64\n"
     ]
    }
   ],
   "source": [
    "# Verificar que ya no haya valores nulos en las columnas numéricas\n",
    "print(f'Valores nulos en cuentas activas después de imputar: \\n{active_df[numerical_columns_active].isnull().sum()}')\n",
    "print(f'Valores nulos en cuentas inactivas después de imputar: \\n{inactive_df[numerical_columns_inactive].isnull().sum()}')\n"
   ]
  },
  {
   "cell_type": "code",
   "execution_count": 364,
   "id": "f6db4de5-8d80-4c1f-93dd-ca8f9957bfca",
   "metadata": {},
   "outputs": [
    {
     "name": "stdout",
     "output_type": "stream",
     "text": [
      "   user_id  amount  cash_request_count\n",
      "0    804.0   100.0                   0\n",
      "1    231.0   100.0                   3\n",
      "2    191.0   100.0                   0\n",
      "3    761.0    99.0                   0\n",
      "4   7686.0   100.0                   0\n"
     ]
    },
    {
     "name": "stderr",
     "output_type": "stream",
     "text": [
      "C:\\Users\\chris\\AppData\\Local\\Temp\\ipykernel_34836\\3184902850.py:2: SettingWithCopyWarning: \n",
      "A value is trying to be set on a copy of a slice from a DataFrame.\n",
      "Try using .loc[row_indexer,col_indexer] = value instead\n",
      "\n",
      "See the caveats in the documentation: https://pandas.pydata.org/pandas-docs/stable/user_guide/indexing.html#returning-a-view-versus-a-copy\n",
      "  active_df['cash_request_count'] = active_df.groupby('user_id')['cash_request_id'].transform('count')\n",
      "C:\\Users\\chris\\AppData\\Local\\Temp\\ipykernel_34836\\3184902850.py:3: SettingWithCopyWarning: \n",
      "A value is trying to be set on a copy of a slice from a DataFrame.\n",
      "Try using .loc[row_indexer,col_indexer] = value instead\n",
      "\n",
      "See the caveats in the documentation: https://pandas.pydata.org/pandas-docs/stable/user_guide/indexing.html#returning-a-view-versus-a-copy\n",
      "  inactive_df['cash_request_count'] = inactive_df.groupby('user_id')['cash_request_id'].transform('count')\n"
     ]
    }
   ],
   "source": [
    "# Calcular cuántas solicitudes de efectivo ha hecho cada usuario activo\n",
    "active_df['cash_request_count'] = active_df.groupby('user_id')['cash_request_id'].transform('count')\n",
    "inactive_df['cash_request_count'] = inactive_df.groupby('user_id')['cash_request_id'].transform('count')\n",
    "# Comprobamos los resultados\n",
    "print(active_df[['user_id', 'amount', 'cash_request_count']].drop_duplicates().head())\n"
   ]
  },
  {
   "cell_type": "code",
   "execution_count": 366,
   "id": "cd5b7aec-e66a-4e67-9be8-08cc317cdc3a",
   "metadata": {},
   "outputs": [
    {
     "ename": "ValueError",
     "evalue": "Input X contains NaN.\nLinearRegression does not accept missing values encoded as NaN natively. For supervised learning, you might want to consider sklearn.ensemble.HistGradientBoostingClassifier and Regressor which accept missing values encoded as NaNs natively. Alternatively, it is possible to preprocess the data, for instance by using an imputer transformer in a pipeline or drop samples with missing values. See https://scikit-learn.org/stable/modules/impute.html You can find a list of all estimators that handle NaN values at the following page: https://scikit-learn.org/stable/modules/impute.html#estimators-that-handle-nan-values",
     "output_type": "error",
     "traceback": [
      "\u001b[1;31m---------------------------------------------------------------------------\u001b[0m",
      "\u001b[1;31mValueError\u001b[0m                                Traceback (most recent call last)",
      "Cell \u001b[1;32mIn[366], line 27\u001b[0m\n\u001b[0;32m     24\u001b[0m inactive_grouped \u001b[38;5;241m=\u001b[39m inactive_grouped[[\u001b[38;5;124m'\u001b[39m\u001b[38;5;124mcash_request_count\u001b[39m\u001b[38;5;124m'\u001b[39m, \u001b[38;5;124m'\u001b[39m\u001b[38;5;124mtotal_amount\u001b[39m\u001b[38;5;124m'\u001b[39m]]\n\u001b[0;32m     26\u001b[0m \u001b[38;5;66;03m# Realizar la predicción\u001b[39;00m\n\u001b[1;32m---> 27\u001b[0m inactive_grouped[\u001b[38;5;124m'\u001b[39m\u001b[38;5;124mpredicted_total_amount\u001b[39m\u001b[38;5;124m'\u001b[39m] \u001b[38;5;241m=\u001b[39m model\u001b[38;5;241m.\u001b[39mpredict(inactive_grouped[[\u001b[38;5;124m'\u001b[39m\u001b[38;5;124mcash_request_count\u001b[39m\u001b[38;5;124m'\u001b[39m]])\n\u001b[0;32m     29\u001b[0m \u001b[38;5;66;03m# 6. Mostrar los resultados\u001b[39;00m\n\u001b[0;32m     30\u001b[0m \u001b[38;5;28mprint\u001b[39m(inactive_grouped[[\u001b[38;5;124m'\u001b[39m\u001b[38;5;124mcash_request_count\u001b[39m\u001b[38;5;124m'\u001b[39m, \u001b[38;5;124m'\u001b[39m\u001b[38;5;124mpredicted_total_amount\u001b[39m\u001b[38;5;124m'\u001b[39m]])\n",
      "File \u001b[1;32mE:\\conda\\Lib\\site-packages\\sklearn\\linear_model\\_base.py:306\u001b[0m, in \u001b[0;36mLinearModel.predict\u001b[1;34m(self, X)\u001b[0m\n\u001b[0;32m    292\u001b[0m \u001b[38;5;28;01mdef\u001b[39;00m \u001b[38;5;21mpredict\u001b[39m(\u001b[38;5;28mself\u001b[39m, X):\n\u001b[0;32m    293\u001b[0m \u001b[38;5;250m    \u001b[39m\u001b[38;5;124;03m\"\"\"\u001b[39;00m\n\u001b[0;32m    294\u001b[0m \u001b[38;5;124;03m    Predict using the linear model.\u001b[39;00m\n\u001b[0;32m    295\u001b[0m \n\u001b[1;32m   (...)\u001b[0m\n\u001b[0;32m    304\u001b[0m \u001b[38;5;124;03m        Returns predicted values.\u001b[39;00m\n\u001b[0;32m    305\u001b[0m \u001b[38;5;124;03m    \"\"\"\u001b[39;00m\n\u001b[1;32m--> 306\u001b[0m     \u001b[38;5;28;01mreturn\u001b[39;00m \u001b[38;5;28mself\u001b[39m\u001b[38;5;241m.\u001b[39m_decision_function(X)\n",
      "File \u001b[1;32mE:\\conda\\Lib\\site-packages\\sklearn\\linear_model\\_base.py:285\u001b[0m, in \u001b[0;36mLinearModel._decision_function\u001b[1;34m(self, X)\u001b[0m\n\u001b[0;32m    282\u001b[0m \u001b[38;5;28;01mdef\u001b[39;00m \u001b[38;5;21m_decision_function\u001b[39m(\u001b[38;5;28mself\u001b[39m, X):\n\u001b[0;32m    283\u001b[0m     check_is_fitted(\u001b[38;5;28mself\u001b[39m)\n\u001b[1;32m--> 285\u001b[0m     X \u001b[38;5;241m=\u001b[39m \u001b[38;5;28mself\u001b[39m\u001b[38;5;241m.\u001b[39m_validate_data(X, accept_sparse\u001b[38;5;241m=\u001b[39m[\u001b[38;5;124m\"\u001b[39m\u001b[38;5;124mcsr\u001b[39m\u001b[38;5;124m\"\u001b[39m, \u001b[38;5;124m\"\u001b[39m\u001b[38;5;124mcsc\u001b[39m\u001b[38;5;124m\"\u001b[39m, \u001b[38;5;124m\"\u001b[39m\u001b[38;5;124mcoo\u001b[39m\u001b[38;5;124m\"\u001b[39m], reset\u001b[38;5;241m=\u001b[39m\u001b[38;5;28;01mFalse\u001b[39;00m)\n\u001b[0;32m    286\u001b[0m     coef_ \u001b[38;5;241m=\u001b[39m \u001b[38;5;28mself\u001b[39m\u001b[38;5;241m.\u001b[39mcoef_\n\u001b[0;32m    287\u001b[0m     \u001b[38;5;28;01mif\u001b[39;00m coef_\u001b[38;5;241m.\u001b[39mndim \u001b[38;5;241m==\u001b[39m \u001b[38;5;241m1\u001b[39m:\n",
      "File \u001b[1;32mE:\\conda\\Lib\\site-packages\\sklearn\\base.py:633\u001b[0m, in \u001b[0;36mBaseEstimator._validate_data\u001b[1;34m(self, X, y, reset, validate_separately, cast_to_ndarray, **check_params)\u001b[0m\n\u001b[0;32m    631\u001b[0m         out \u001b[38;5;241m=\u001b[39m X, y\n\u001b[0;32m    632\u001b[0m \u001b[38;5;28;01melif\u001b[39;00m \u001b[38;5;129;01mnot\u001b[39;00m no_val_X \u001b[38;5;129;01mand\u001b[39;00m no_val_y:\n\u001b[1;32m--> 633\u001b[0m     out \u001b[38;5;241m=\u001b[39m check_array(X, input_name\u001b[38;5;241m=\u001b[39m\u001b[38;5;124m\"\u001b[39m\u001b[38;5;124mX\u001b[39m\u001b[38;5;124m\"\u001b[39m, \u001b[38;5;241m*\u001b[39m\u001b[38;5;241m*\u001b[39mcheck_params)\n\u001b[0;32m    634\u001b[0m \u001b[38;5;28;01melif\u001b[39;00m no_val_X \u001b[38;5;129;01mand\u001b[39;00m \u001b[38;5;129;01mnot\u001b[39;00m no_val_y:\n\u001b[0;32m    635\u001b[0m     out \u001b[38;5;241m=\u001b[39m _check_y(y, \u001b[38;5;241m*\u001b[39m\u001b[38;5;241m*\u001b[39mcheck_params)\n",
      "File \u001b[1;32mE:\\conda\\Lib\\site-packages\\sklearn\\utils\\validation.py:1064\u001b[0m, in \u001b[0;36mcheck_array\u001b[1;34m(array, accept_sparse, accept_large_sparse, dtype, order, copy, force_writeable, force_all_finite, ensure_2d, allow_nd, ensure_min_samples, ensure_min_features, estimator, input_name)\u001b[0m\n\u001b[0;32m   1058\u001b[0m     \u001b[38;5;28;01mraise\u001b[39;00m \u001b[38;5;167;01mValueError\u001b[39;00m(\n\u001b[0;32m   1059\u001b[0m         \u001b[38;5;124m\"\u001b[39m\u001b[38;5;124mFound array with dim \u001b[39m\u001b[38;5;132;01m%d\u001b[39;00m\u001b[38;5;124m. \u001b[39m\u001b[38;5;132;01m%s\u001b[39;00m\u001b[38;5;124m expected <= 2.\u001b[39m\u001b[38;5;124m\"\u001b[39m\n\u001b[0;32m   1060\u001b[0m         \u001b[38;5;241m%\u001b[39m (array\u001b[38;5;241m.\u001b[39mndim, estimator_name)\n\u001b[0;32m   1061\u001b[0m     )\n\u001b[0;32m   1063\u001b[0m \u001b[38;5;28;01mif\u001b[39;00m force_all_finite:\n\u001b[1;32m-> 1064\u001b[0m     _assert_all_finite(\n\u001b[0;32m   1065\u001b[0m         array,\n\u001b[0;32m   1066\u001b[0m         input_name\u001b[38;5;241m=\u001b[39minput_name,\n\u001b[0;32m   1067\u001b[0m         estimator_name\u001b[38;5;241m=\u001b[39mestimator_name,\n\u001b[0;32m   1068\u001b[0m         allow_nan\u001b[38;5;241m=\u001b[39mforce_all_finite \u001b[38;5;241m==\u001b[39m \u001b[38;5;124m\"\u001b[39m\u001b[38;5;124mallow-nan\u001b[39m\u001b[38;5;124m\"\u001b[39m,\n\u001b[0;32m   1069\u001b[0m     )\n\u001b[0;32m   1071\u001b[0m \u001b[38;5;28;01mif\u001b[39;00m copy:\n\u001b[0;32m   1072\u001b[0m     \u001b[38;5;28;01mif\u001b[39;00m _is_numpy_namespace(xp):\n\u001b[0;32m   1073\u001b[0m         \u001b[38;5;66;03m# only make a copy if `array` and `array_orig` may share memory`\u001b[39;00m\n",
      "File \u001b[1;32mE:\\conda\\Lib\\site-packages\\sklearn\\utils\\validation.py:123\u001b[0m, in \u001b[0;36m_assert_all_finite\u001b[1;34m(X, allow_nan, msg_dtype, estimator_name, input_name)\u001b[0m\n\u001b[0;32m    120\u001b[0m \u001b[38;5;28;01mif\u001b[39;00m first_pass_isfinite:\n\u001b[0;32m    121\u001b[0m     \u001b[38;5;28;01mreturn\u001b[39;00m\n\u001b[1;32m--> 123\u001b[0m _assert_all_finite_element_wise(\n\u001b[0;32m    124\u001b[0m     X,\n\u001b[0;32m    125\u001b[0m     xp\u001b[38;5;241m=\u001b[39mxp,\n\u001b[0;32m    126\u001b[0m     allow_nan\u001b[38;5;241m=\u001b[39mallow_nan,\n\u001b[0;32m    127\u001b[0m     msg_dtype\u001b[38;5;241m=\u001b[39mmsg_dtype,\n\u001b[0;32m    128\u001b[0m     estimator_name\u001b[38;5;241m=\u001b[39mestimator_name,\n\u001b[0;32m    129\u001b[0m     input_name\u001b[38;5;241m=\u001b[39minput_name,\n\u001b[0;32m    130\u001b[0m )\n",
      "File \u001b[1;32mE:\\conda\\Lib\\site-packages\\sklearn\\utils\\validation.py:172\u001b[0m, in \u001b[0;36m_assert_all_finite_element_wise\u001b[1;34m(X, xp, allow_nan, msg_dtype, estimator_name, input_name)\u001b[0m\n\u001b[0;32m    155\u001b[0m \u001b[38;5;28;01mif\u001b[39;00m estimator_name \u001b[38;5;129;01mand\u001b[39;00m input_name \u001b[38;5;241m==\u001b[39m \u001b[38;5;124m\"\u001b[39m\u001b[38;5;124mX\u001b[39m\u001b[38;5;124m\"\u001b[39m \u001b[38;5;129;01mand\u001b[39;00m has_nan_error:\n\u001b[0;32m    156\u001b[0m     \u001b[38;5;66;03m# Improve the error message on how to handle missing values in\u001b[39;00m\n\u001b[0;32m    157\u001b[0m     \u001b[38;5;66;03m# scikit-learn.\u001b[39;00m\n\u001b[0;32m    158\u001b[0m     msg_err \u001b[38;5;241m+\u001b[39m\u001b[38;5;241m=\u001b[39m (\n\u001b[0;32m    159\u001b[0m         \u001b[38;5;124mf\u001b[39m\u001b[38;5;124m\"\u001b[39m\u001b[38;5;130;01m\\n\u001b[39;00m\u001b[38;5;132;01m{\u001b[39;00mestimator_name\u001b[38;5;132;01m}\u001b[39;00m\u001b[38;5;124m does not accept missing values\u001b[39m\u001b[38;5;124m\"\u001b[39m\n\u001b[0;32m    160\u001b[0m         \u001b[38;5;124m\"\u001b[39m\u001b[38;5;124m encoded as NaN natively. For supervised learning, you might want\u001b[39m\u001b[38;5;124m\"\u001b[39m\n\u001b[1;32m   (...)\u001b[0m\n\u001b[0;32m    170\u001b[0m         \u001b[38;5;124m\"\u001b[39m\u001b[38;5;124m#estimators-that-handle-nan-values\u001b[39m\u001b[38;5;124m\"\u001b[39m\n\u001b[0;32m    171\u001b[0m     )\n\u001b[1;32m--> 172\u001b[0m \u001b[38;5;28;01mraise\u001b[39;00m \u001b[38;5;167;01mValueError\u001b[39;00m(msg_err)\n",
      "\u001b[1;31mValueError\u001b[0m: Input X contains NaN.\nLinearRegression does not accept missing values encoded as NaN natively. For supervised learning, you might want to consider sklearn.ensemble.HistGradientBoostingClassifier and Regressor which accept missing values encoded as NaNs natively. Alternatively, it is possible to preprocess the data, for instance by using an imputer transformer in a pipeline or drop samples with missing values. See https://scikit-learn.org/stable/modules/impute.html You can find a list of all estimators that handle NaN values at the following page: https://scikit-learn.org/stable/modules/impute.html#estimators-that-handle-nan-values"
     ]
    }
   ],
   "source": [
    "import pandas as pd\n",
    "from sklearn.linear_model import LinearRegression\n",
    "from sklearn.model_selection import train_test_split\n",
    "\n",
    "# 2. Separar características y etiquetas para el modelo\n",
    "X = active_df[['cash_request_count']]\n",
    "y = active_df['amount']\n",
    "\n",
    "# 3. Crear el modelo de regresión lineal\n",
    "model = LinearRegression()\n",
    "\n",
    "# 4. Entrenamiento del modelo\n",
    "model.fit(X, y)\n",
    "\n",
    "# 5. Predecir valores para cuentas inactivas\n",
    "# Asegurarnos de que total_amount esté presente y correctamente configurado\n",
    "inactive_grouped = inactive_df.copy()\n",
    "\n",
    "# Agregar columna total_amount con ceros si no está presente\n",
    "if 'total_amount' not in inactive_grouped.columns:\n",
    "    inactive_grouped['total_amount'] = 0  # Valores de relleno\n",
    "\n",
    "# Mantener el orden de las columnas igual que en el entrenamiento\n",
    "inactive_grouped = inactive_grouped[['cash_request_count', 'total_amount']]\n",
    "\n",
    "# Realizar la predicción\n",
    "inactive_grouped['predicted_total_amount'] = model.predict(inactive_grouped[['cash_request_count']])\n",
    "\n",
    "# 6. Mostrar los resultados\n",
    "print(inactive_grouped[['cash_request_count', 'predicted_total_amount']])"
   ]
  },
  {
   "cell_type": "code",
   "execution_count": 336,
   "id": "8d72845d-bb7b-4714-bcb5-32379131b1a4",
   "metadata": {},
   "outputs": [
    {
     "name": "stdout",
     "output_type": "stream",
     "text": [
      "Características seleccionadas:\n",
      "   total_amount  cash_request_count\n",
      "0           5.0                   1\n",
      "1           5.0                  10\n",
      "2           5.0                   2\n",
      "3           5.0                   1\n",
      "4           5.0                   1\n",
      "Variable objetivo:\n",
      "0     1\n",
      "1    10\n",
      "2     2\n",
      "3     1\n",
      "4     1\n",
      "Name: cash_request_count, dtype: int64\n"
     ]
    }
   ],
   "source": [
    "# Selección de características para el modelo (ejemplo: columnas numéricas relevantes)\n",
    "X_active = active_df[['total_amount', 'cash_request_count']]  # Características predictoras\n",
    "y_active = active_df['cash_request_count']  # Variable objetivo (número de peticiones)\n",
    "\n",
    "# Verificación rápida\n",
    "print(f'Características seleccionadas:\\n{X_active.head()}')\n",
    "print(f'Variable objetivo:\\n{y_active.head()}')\n"
   ]
  },
  {
   "cell_type": "code",
   "execution_count": 282,
   "id": "132869c9-c782-4ce4-b21c-8851aebafb78",
   "metadata": {},
   "outputs": [
    {
     "name": "stdout",
     "output_type": "stream",
     "text": [
      "Puntaje R^2 en el conjunto de prueba: 1.00\n"
     ]
    }
   ],
   "source": [
    "from sklearn.model_selection import train_test_split\n",
    "from sklearn.linear_model import LinearRegression\n",
    "\n",
    "# Selección de características y variable objetivo\n",
    "X_active = active_df[['total_amount', 'cash_request_count']]\n",
    "y_active = active_df['cash_request_count']  # Usaremos el número de solicitudes como objetivo\n",
    "\n",
    "# Dividir datos en entrenamiento y prueba\n",
    "X_train, X_test, y_train, y_test = train_test_split(X_active, y_active, test_size=0.3, random_state=42)\n",
    "\n",
    "# Crear y entrenar el modelo\n",
    "model = LinearRegression()\n",
    "model.fit(X_train, y_train)\n",
    "\n",
    "# Evaluar el modelo\n",
    "r2_score = model.score(X_test, y_test)\n",
    "print(f'Puntaje R^2 en el conjunto de prueba: {r2_score:.2f}')\n"
   ]
  },
  {
   "cell_type": "code",
   "execution_count": 338,
   "id": "ea436759-fbc4-41c1-9986-6d5d8ac4ba48",
   "metadata": {},
   "outputs": [
    {
     "name": "stdout",
     "output_type": "stream",
     "text": [
      "    deleted_account_id  total_amount  predicted_cash_requests\n",
      "7                309.0      5.005519                      2.0\n",
      "8               2499.0      5.005519                      1.0\n",
      "19               304.0      5.005519                      2.0\n",
      "25                91.0      5.005519                      1.0\n",
      "34               575.0      5.005519                      3.0\n"
     ]
    },
    {
     "name": "stderr",
     "output_type": "stream",
     "text": [
      "C:\\Users\\chris\\AppData\\Local\\Temp\\ipykernel_34836\\1377490695.py:2: SettingWithCopyWarning: \n",
      "A value is trying to be set on a copy of a slice from a DataFrame.\n",
      "Try using .loc[row_indexer,col_indexer] = value instead\n",
      "\n",
      "See the caveats in the documentation: https://pandas.pydata.org/pandas-docs/stable/user_guide/indexing.html#returning-a-view-versus-a-copy\n",
      "  inactive_df['cash_request_count'] = inactive_df.groupby('deleted_account_id')['cash_request_id'].transform('count')\n",
      "C:\\Users\\chris\\AppData\\Local\\Temp\\ipykernel_34836\\1377490695.py:5: SettingWithCopyWarning: \n",
      "A value is trying to be set on a copy of a slice from a DataFrame.\n",
      "Try using .loc[row_indexer,col_indexer] = value instead\n",
      "\n",
      "See the caveats in the documentation: https://pandas.pydata.org/pandas-docs/stable/user_guide/indexing.html#returning-a-view-versus-a-copy\n",
      "  inactive_df['cash_request_count'] = inactive_df['cash_request_count'].fillna(0)\n",
      "C:\\Users\\chris\\AppData\\Local\\Temp\\ipykernel_34836\\1377490695.py:11: SettingWithCopyWarning: \n",
      "A value is trying to be set on a copy of a slice from a DataFrame.\n",
      "Try using .loc[row_indexer,col_indexer] = value instead\n",
      "\n",
      "See the caveats in the documentation: https://pandas.pydata.org/pandas-docs/stable/user_guide/indexing.html#returning-a-view-versus-a-copy\n",
      "  inactive_df['predicted_cash_requests'] = model.predict(X_inactive)\n"
     ]
    }
   ],
   "source": [
    "# Calcular cash_request_count para cuentas inactivas\n",
    "inactive_df['cash_request_count'] = inactive_df.groupby('deleted_account_id')['cash_request_id'].transform('count')\n",
    "\n",
    "# Rellenar NaN con 0 (puede haber cuentas con 0 solicitudes registradas)\n",
    "inactive_df['cash_request_count'] = inactive_df['cash_request_count'].fillna(0)\n",
    "\n",
    "# Seleccionar características para predicción\n",
    "X_inactive = inactive_df[['total_amount', 'cash_request_count']]\n",
    "\n",
    "# Realizar predicción\n",
    "inactive_df['predicted_cash_requests'] = model.predict(X_inactive)\n",
    "\n",
    "# Ver resultados\n",
    "print(inactive_df[['deleted_account_id', 'total_amount', 'predicted_cash_requests']].drop_duplicates().head())\n"
   ]
  },
  {
   "cell_type": "code",
   "execution_count": 340,
   "id": "b8447e68-a2e6-4353-9c8f-df0f83b4a8d8",
   "metadata": {},
   "outputs": [
    {
     "name": "stdout",
     "output_type": "stream",
     "text": [
      "    cash_request_count  predicted_cash_requests\n",
      "7                    2                      2.0\n",
      "8                    1                      1.0\n",
      "19                   2                      2.0\n",
      "21                   2                      2.0\n",
      "25                   1                      1.0\n",
      "Diferencia promedio entre predicción y realidad: 0.00\n"
     ]
    }
   ],
   "source": [
    "# Comparar valores reales y predichos\n",
    "comparison = inactive_df[['cash_request_count', 'predicted_cash_requests']]\n",
    "print(comparison.head())\n",
    "\n",
    "# Analizar la diferencia promedio entre lo real y lo predicho\n",
    "difference = (comparison['predicted_cash_requests'] - comparison['cash_request_count']).mean()\n",
    "print(f'Diferencia promedio entre predicción y realidad: {difference:.2f}')\n"
   ]
  },
  {
   "cell_type": "code",
   "execution_count": 342,
   "id": "9bfca06d-a658-4e3b-b82b-f0047943f896",
   "metadata": {},
   "outputs": [
    {
     "name": "stdout",
     "output_type": "stream",
     "text": [
      "   user_id  total_amount  cash_request_count\n",
      "0     34.0           5.0                   1\n",
      "1     35.0          35.0                   7\n",
      "2     47.0          65.0                  13\n",
      "3     52.0          20.0                   4\n",
      "4     53.0          20.0                   4\n"
     ]
    }
   ],
   "source": [
    "# Agrupar por 'user_id' para cuentas activas\n",
    "active_grouped = active_df.groupby('user_id').agg({\n",
    "    'total_amount': 'sum',      # Sumar el total solicitado por usuario\n",
    "    'cash_request_id': 'count'  # Contar número de solicitudes\n",
    "}).rename(columns={'cash_request_id': 'cash_request_count'}).reset_index()\n",
    "\n",
    "# Comprobamos los datos\n",
    "print(active_grouped.head())\n"
   ]
  },
  {
   "cell_type": "code",
   "execution_count": 344,
   "id": "245df84c-04e7-49ef-8622-3830c406f319",
   "metadata": {},
   "outputs": [
    {
     "name": "stdout",
     "output_type": "stream",
     "text": [
      "Index(['deleted_account_id', 'cash_request_count'], dtype='object')\n"
     ]
    },
    {
     "ename": "KeyError",
     "evalue": "\"['total_amount'] not in index\"",
     "output_type": "error",
     "traceback": [
      "\u001b[1;31m---------------------------------------------------------------------------\u001b[0m",
      "\u001b[1;31mKeyError\u001b[0m                                  Traceback (most recent call last)",
      "Cell \u001b[1;32mIn[344], line 13\u001b[0m\n\u001b[0;32m      9\u001b[0m inactive_grouped \u001b[38;5;241m=\u001b[39m inactive_grouped[[\u001b[38;5;124m'\u001b[39m\u001b[38;5;124mcash_request_count\u001b[39m\u001b[38;5;124m'\u001b[39m]]\n\u001b[0;32m     10\u001b[0m \u001b[38;5;66;03m# Crear una columna total_amount con valores nulos o ceros si no existe\u001b[39;00m\n\u001b[0;32m     11\u001b[0m \n\u001b[0;32m     12\u001b[0m \u001b[38;5;66;03m# Realizar la predicción con ambas columnas presentes\u001b[39;00m\n\u001b[1;32m---> 13\u001b[0m inactive_grouped[\u001b[38;5;124m'\u001b[39m\u001b[38;5;124mpredicted_total_amount\u001b[39m\u001b[38;5;124m'\u001b[39m] \u001b[38;5;241m=\u001b[39m model\u001b[38;5;241m.\u001b[39mpredict(inactive_grouped[[\u001b[38;5;124m'\u001b[39m\u001b[38;5;124mcash_request_count\u001b[39m\u001b[38;5;124m'\u001b[39m, \u001b[38;5;124m'\u001b[39m\u001b[38;5;124mtotal_amount\u001b[39m\u001b[38;5;124m'\u001b[39m]])\n",
      "File \u001b[1;32mE:\\conda\\Lib\\site-packages\\pandas\\core\\frame.py:4108\u001b[0m, in \u001b[0;36mDataFrame.__getitem__\u001b[1;34m(self, key)\u001b[0m\n\u001b[0;32m   4106\u001b[0m     \u001b[38;5;28;01mif\u001b[39;00m is_iterator(key):\n\u001b[0;32m   4107\u001b[0m         key \u001b[38;5;241m=\u001b[39m \u001b[38;5;28mlist\u001b[39m(key)\n\u001b[1;32m-> 4108\u001b[0m     indexer \u001b[38;5;241m=\u001b[39m \u001b[38;5;28mself\u001b[39m\u001b[38;5;241m.\u001b[39mcolumns\u001b[38;5;241m.\u001b[39m_get_indexer_strict(key, \u001b[38;5;124m\"\u001b[39m\u001b[38;5;124mcolumns\u001b[39m\u001b[38;5;124m\"\u001b[39m)[\u001b[38;5;241m1\u001b[39m]\n\u001b[0;32m   4110\u001b[0m \u001b[38;5;66;03m# take() does not accept boolean indexers\u001b[39;00m\n\u001b[0;32m   4111\u001b[0m \u001b[38;5;28;01mif\u001b[39;00m \u001b[38;5;28mgetattr\u001b[39m(indexer, \u001b[38;5;124m\"\u001b[39m\u001b[38;5;124mdtype\u001b[39m\u001b[38;5;124m\"\u001b[39m, \u001b[38;5;28;01mNone\u001b[39;00m) \u001b[38;5;241m==\u001b[39m \u001b[38;5;28mbool\u001b[39m:\n",
      "File \u001b[1;32mE:\\conda\\Lib\\site-packages\\pandas\\core\\indexes\\base.py:6200\u001b[0m, in \u001b[0;36mIndex._get_indexer_strict\u001b[1;34m(self, key, axis_name)\u001b[0m\n\u001b[0;32m   6197\u001b[0m \u001b[38;5;28;01melse\u001b[39;00m:\n\u001b[0;32m   6198\u001b[0m     keyarr, indexer, new_indexer \u001b[38;5;241m=\u001b[39m \u001b[38;5;28mself\u001b[39m\u001b[38;5;241m.\u001b[39m_reindex_non_unique(keyarr)\n\u001b[1;32m-> 6200\u001b[0m \u001b[38;5;28mself\u001b[39m\u001b[38;5;241m.\u001b[39m_raise_if_missing(keyarr, indexer, axis_name)\n\u001b[0;32m   6202\u001b[0m keyarr \u001b[38;5;241m=\u001b[39m \u001b[38;5;28mself\u001b[39m\u001b[38;5;241m.\u001b[39mtake(indexer)\n\u001b[0;32m   6203\u001b[0m \u001b[38;5;28;01mif\u001b[39;00m \u001b[38;5;28misinstance\u001b[39m(key, Index):\n\u001b[0;32m   6204\u001b[0m     \u001b[38;5;66;03m# GH 42790 - Preserve name from an Index\u001b[39;00m\n",
      "File \u001b[1;32mE:\\conda\\Lib\\site-packages\\pandas\\core\\indexes\\base.py:6252\u001b[0m, in \u001b[0;36mIndex._raise_if_missing\u001b[1;34m(self, key, indexer, axis_name)\u001b[0m\n\u001b[0;32m   6249\u001b[0m     \u001b[38;5;28;01mraise\u001b[39;00m \u001b[38;5;167;01mKeyError\u001b[39;00m(\u001b[38;5;124mf\u001b[39m\u001b[38;5;124m\"\u001b[39m\u001b[38;5;124mNone of [\u001b[39m\u001b[38;5;132;01m{\u001b[39;00mkey\u001b[38;5;132;01m}\u001b[39;00m\u001b[38;5;124m] are in the [\u001b[39m\u001b[38;5;132;01m{\u001b[39;00maxis_name\u001b[38;5;132;01m}\u001b[39;00m\u001b[38;5;124m]\u001b[39m\u001b[38;5;124m\"\u001b[39m)\n\u001b[0;32m   6251\u001b[0m not_found \u001b[38;5;241m=\u001b[39m \u001b[38;5;28mlist\u001b[39m(ensure_index(key)[missing_mask\u001b[38;5;241m.\u001b[39mnonzero()[\u001b[38;5;241m0\u001b[39m]]\u001b[38;5;241m.\u001b[39munique())\n\u001b[1;32m-> 6252\u001b[0m \u001b[38;5;28;01mraise\u001b[39;00m \u001b[38;5;167;01mKeyError\u001b[39;00m(\u001b[38;5;124mf\u001b[39m\u001b[38;5;124m\"\u001b[39m\u001b[38;5;132;01m{\u001b[39;00mnot_found\u001b[38;5;132;01m}\u001b[39;00m\u001b[38;5;124m not in index\u001b[39m\u001b[38;5;124m\"\u001b[39m)\n",
      "\u001b[1;31mKeyError\u001b[0m: \"['total_amount'] not in index\""
     ]
    }
   ],
   "source": [
    "# Agrupar cuentas inactivas\n",
    "inactive_grouped = inactive_df.groupby('deleted_account_id').agg({\n",
    "    'cash_request_id': 'count'  # Contar número de solicitudes\n",
    "}).rename(columns={'cash_request_id': 'cash_request_count'}).reset_index()\n",
    "# Comprobamos las columnas del DataFrame inactivo\n",
    "print(inactive_grouped.columns)\n",
    "inactive_grouped['total_amount'] = 0\n",
    "# Asegúrate de que las columnas se llaman exactamente como en el conjunto de entrenamiento\n",
    "inactive_grouped = inactive_grouped[['cash_request_count']]\n",
    "# Crear una columna total_amount con valores nulos o ceros si no existe\n",
    "\n",
    "# Realizar la predicción con ambas columnas presentes\n",
    "inactive_grouped['predicted_total_amount'] = model.predict(inactive_grouped[['cash_request_count', 'total_amount']])\n",
    "\n"
   ]
  },
  {
   "cell_type": "code",
   "execution_count": null,
   "id": "39bf37c8-332a-4dd3-b131-d76314aa7672",
   "metadata": {},
   "outputs": [],
   "source": []
  },
  {
   "cell_type": "code",
   "execution_count": null,
   "id": "a075c271-cf5d-4b16-b436-086cd9834dec",
   "metadata": {},
   "outputs": [],
   "source": []
  },
  {
   "cell_type": "code",
   "execution_count": 6,
   "id": "dfa04e0e-1282-43e6-aa39-bb7f5c9b3c5b",
   "metadata": {},
   "outputs": [
    {
     "name": "stderr",
     "output_type": "stream",
     "text": [
      "C:\\Users\\chris\\AppData\\Local\\Temp\\ipykernel_34836\\2554865715.py:3: UserWarning: Converting to PeriodArray/Index representation will drop timezone information.\n",
      "  df['cohorte'] = df['cohorte'].dt.to_period('M')  # Convertir a periodos mensuales\n"
     ]
    }
   ],
   "source": [
    "# Encontrar la primera transacción de cada usuario\n",
    "df['cohorte'] = df.groupby('user_id')['created_at_x'].transform('min')\n",
    "df['cohorte'] = df['cohorte'].dt.to_period('M')  # Convertir a periodos mensuales\n",
    "df['cohorte'] = df['cohorte'].dt.to_timestamp()"
   ]
  },
  {
   "cell_type": "code",
   "execution_count": 7,
   "id": "97057e85-2b0c-40fd-8e5e-4fe2714b442c",
   "metadata": {},
   "outputs": [],
   "source": [
    "from operator import attrgetter\n",
    "# Convertir ambas columnas a tz-naive (sin zona horaria)\n",
    "df['created_at_x'] = df['created_at_x'].dt.tz_localize(None)\n",
    "df['created_at_y'] = df['created_at_y'].dt.tz_localize(None)\n",
    "df['cohorte'] = df['cohorte'].dt.tz_localize(None)\n",
    "\n",
    "# Calcular los meses desde la cohorte\n",
    "df['meses_desde_cohorte'] = ((df['created_at_x'] - df['cohorte']).dt.days // 30)\n",
    "\n"
   ]
  },
  {
   "cell_type": "code",
   "execution_count": 8,
   "id": "87a54b88-df41-45b0-bf4a-1edb5857dc0b",
   "metadata": {},
   "outputs": [],
   "source": [
    "cohorte_retencion = df.groupby(['cohorte', 'meses_desde_cohorte']).size().unstack().fillna(0)\n",
    "retencion = cohorte_retencion.divide(cohorte_retencion.iloc[:, 0], axis=0)\n",
    "\n"
   ]
  },
  {
   "cell_type": "code",
   "execution_count": 9,
   "id": "92c2026a-ad12-4268-a5b1-31b02b26c564",
   "metadata": {},
   "outputs": [],
   "source": [
    "df['exito_prestamo'] = df['recovery_status'].apply(lambda x: 1 if x == 'completed' else 0)\n"
   ]
  },
  {
   "cell_type": "code",
   "execution_count": 10,
   "id": "d309b115-4e7e-4e67-8050-3450daf2c250",
   "metadata": {},
   "outputs": [],
   "source": [
    "df['incidente_pago'] = df['recovery_status'].apply(lambda x: 1 if x == 'pending' else 0)\n",
    "df['monto_prestamo'] = df['total_amount']  # O la columna que tenga el monto\n",
    "df['tipo_transferencia'] = df['transfer_type']\n",
    "\n"
   ]
  },
  {
   "cell_type": "code",
   "execution_count": 11,
   "id": "ebd323a1-d516-4a6f-aef3-a2336f02bc5c",
   "metadata": {},
   "outputs": [],
   "source": [
    "# Convertir fechas a días desde un punto de referencia\n",
    "df['created_at_x'] = (df['created_at_x'] - pd.Timestamp('1970-01-01')).dt.days\n",
    "df['created_at_y'] = (df['created_at_y'] - pd.Timestamp('1970-01-01')).dt.days\n",
    "df['cohorte'] = (df['cohorte'] - pd.Timestamp('1970-01-01')).dt.days"
   ]
  },
  {
   "cell_type": "code",
   "execution_count": 12,
   "id": "2008cae2-6494-4a20-80ff-4c20bd623d9a",
   "metadata": {},
   "outputs": [
    {
     "name": "stdout",
     "output_type": "stream",
     "text": [
      "<class 'pandas.core.frame.DataFrame'>\n",
      "RangeIndex: 32094 entries, 0 to 32093\n",
      "Data columns (total 35 columns):\n",
      " #   Column                      Non-Null Count  Dtype  \n",
      "---  ------                      --------------  -----  \n",
      " 0   id_x                        32094 non-null  int64  \n",
      " 1   amount                      32094 non-null  float64\n",
      " 2   status_x                    32094 non-null  object \n",
      " 3   created_at_x                32094 non-null  int64  \n",
      " 4   updated_at_x                32094 non-null  object \n",
      " 5   user_id                     29522 non-null  float64\n",
      " 6   moderated_at                21759 non-null  object \n",
      " 7   deleted_account_id          2573 non-null   float64\n",
      " 8   reimbursement_date          32094 non-null  object \n",
      " 9   cash_request_received_date  24149 non-null  object \n",
      " 10  money_back_date             23917 non-null  object \n",
      " 11  transfer_type               32094 non-null  object \n",
      " 12  send_at                     22678 non-null  object \n",
      " 13  recovery_status             7200 non-null   object \n",
      " 14  reco_creation               7200 non-null   object \n",
      " 15  reco_last_update            7200 non-null   object \n",
      " 16  id_y                        21057 non-null  float64\n",
      " 17  cash_request_id             21057 non-null  float64\n",
      " 18  type                        21057 non-null  object \n",
      " 19  status_y                    21057 non-null  object \n",
      " 20  category                    2196 non-null   object \n",
      " 21  total_amount                21057 non-null  float64\n",
      " 22  reason                      21057 non-null  object \n",
      " 23  created_at_y                21057 non-null  float64\n",
      " 24  updated_at_y                21057 non-null  object \n",
      " 25  paid_at                     15531 non-null  object \n",
      " 26  from_date                   7766 non-null   object \n",
      " 27  to_date                     7766 non-null   object \n",
      " 28  charge_moment               21057 non-null  object \n",
      " 29  cohorte                     29522 non-null  float64\n",
      " 30  meses_desde_cohorte         29522 non-null  float64\n",
      " 31  exito_prestamo              32094 non-null  int64  \n",
      " 32  incidente_pago              32094 non-null  int64  \n",
      " 33  monto_prestamo              21057 non-null  float64\n",
      " 34  tipo_transferencia          32094 non-null  object \n",
      "dtypes: float64(10), int64(4), object(21)\n",
      "memory usage: 8.6+ MB\n"
     ]
    }
   ],
   "source": [
    "df.info()"
   ]
  },
  {
   "cell_type": "code",
   "execution_count": 13,
   "id": "796344ae-b409-4d9e-b8a4-ab679792d2a2",
   "metadata": {},
   "outputs": [],
   "source": [
    "from sklearn.preprocessing import OneHotEncoder\n",
    "\n",
    "y = df['status_x']  # Extraer la columna objetivo\n",
    "X = df[['cash_request_id', 'amount', 'created_at_x']]  \n",
    "\n",
    "'''\n",
    "# Codificar las variables categóricas en X\n",
    "categorical_columns = X.select_dtypes(include=['object']).columns\n",
    "X_encoded = pd.get_dummies(X, columns=categorical_columns, drop_first=True)\n",
    "from sklearn.preprocessing import LabelEncoder\n",
    "le = LabelEncoder()\n",
    "y_encoded = le.fit_transform(y)  # `y_encoded` será tu nueva variable objetivo\n",
    "'''\n",
    "from sklearn.model_selection import train_test_split\n",
    "X_train, X_test, y_train, y_test = train_test_split(X, y, test_size=0.3, random_state=42)\n",
    "\n"
   ]
  },
  {
   "cell_type": "code",
   "execution_count": 14,
   "id": "6b9c7afe-3e39-4641-b7ba-f6fb18cbb924",
   "metadata": {},
   "outputs": [
    {
     "ename": "SyntaxError",
     "evalue": "invalid syntax (274639052.py, line 5)",
     "output_type": "error",
     "traceback": [
      "\u001b[1;36m  Cell \u001b[1;32mIn[14], line 5\u001b[1;36m\u001b[0m\n\u001b[1;33m    model = from sklearn.ensemble import RandomForestClassifier\u001b[0m\n\u001b[1;37m            ^\u001b[0m\n\u001b[1;31mSyntaxError\u001b[0m\u001b[1;31m:\u001b[0m invalid syntax\n"
     ]
    }
   ],
   "source": [
    "\n",
    "# Entrenar el modelo\n",
    "from sklearn.ensemble import RandomForestClassifier\n",
    "\n",
    "#model = RandomForestClassifier(n_estimators=100, random_state=42)\n",
    "model = from sklearn.ensemble import RandomForestClassifier\n",
    "\n",
    "# Definimos el modelo con los hiperparámetros dados\n",
    "model = RandomForestClassifier(\n",
    "    n_estimators=300,       # Número de árboles en el bosque\n",
    "    max_depth=None,         # Profundidad máxima de los árboles (sin límite)\n",
    "    min_samples_split=2,    # Mínimo de muestras requeridas para dividir un nodo\n",
    "    random_state=42         # Fijar semilla para reproducibilidad\n",
    ")\n",
    "\n",
    "model.fit(X_train, y_train)\n",
    "\n",
    "# Realizar predicciones\n",
    "y_pred = model.predict(X_test)\n"
   ]
  },
  {
   "cell_type": "code",
   "execution_count": null,
   "id": "9361777e-da16-4444-b7e5-22812a1a5299",
   "metadata": {},
   "outputs": [],
   "source": [
    "'''\n",
    "from sklearn.model_selection import GridSearchCV\n",
    "\n",
    "param_grid = {\n",
    "    'n_estimators': [100, 200, 300],\n",
    "    'max_depth': [None, 10, 20, 30],\n",
    "    'min_samples_split': [2, 5, 10],\n",
    "}\n",
    "grid_search = GridSearchCV(RandomForestClassifier(random_state=42), param_grid, cv=3)\n",
    "grid_search.fit(X_train, y_train)\n",
    "print(grid_search.best_params_)\n",
    "'''"
   ]
  },
  {
   "cell_type": "code",
   "execution_count": 28,
   "id": "3471caba-4f2b-4a0e-ab0c-633727d1f780",
   "metadata": {},
   "outputs": [
    {
     "ename": "NameError",
     "evalue": "name 'model' is not defined",
     "output_type": "error",
     "traceback": [
      "\u001b[1;31m---------------------------------------------------------------------------\u001b[0m",
      "\u001b[1;31mNameError\u001b[0m                                 Traceback (most recent call last)",
      "Cell \u001b[1;32mIn[28], line 1\u001b[0m\n\u001b[1;32m----> 1\u001b[0m importances \u001b[38;5;241m=\u001b[39m model\u001b[38;5;241m.\u001b[39mfeature_importances_\n\u001b[0;32m      2\u001b[0m plt\u001b[38;5;241m.\u001b[39mbarh(X_train\u001b[38;5;241m.\u001b[39mcolumns, importances)\n\u001b[0;32m      3\u001b[0m plt\u001b[38;5;241m.\u001b[39mshow()\n",
      "\u001b[1;31mNameError\u001b[0m: name 'model' is not defined"
     ]
    }
   ],
   "source": [
    "importances = model.feature_importances_\n",
    "plt.barh(X_train.columns, importances)\n",
    "plt.show()\n"
   ]
  },
  {
   "cell_type": "code",
   "execution_count": null,
   "id": "f30c7921-ce89-4b1a-b1cc-525942b55c37",
   "metadata": {},
   "outputs": [],
   "source": [
    "from sklearn.metrics import accuracy_score\n",
    "\n",
    "accuracy = accuracy_score(y_test, y_pred)\n",
    "print(f\"Precisión del modelo: {accuracy:.2f}\")\n"
   ]
  },
  {
   "cell_type": "code",
   "execution_count": null,
   "id": "6b8ca3e9-8ea9-4029-803c-0e75d36f2415",
   "metadata": {},
   "outputs": [],
   "source": [
    "from sklearn.metrics import classification_report\n",
    "\n",
    "print(classification_report(y_test, y_pred))\n"
   ]
  },
  {
   "cell_type": "code",
   "execution_count": null,
   "id": "a49e1acc-0fc0-463c-ac9f-7e8c7e63901a",
   "metadata": {},
   "outputs": [],
   "source": [
    "from sklearn.metrics import confusion_matrix\n",
    "import seaborn as sns\n",
    "import matplotlib.pyplot as plt\n",
    "\n",
    "cm = confusion_matrix(y_test, y_pred)\n",
    "sns.heatmap(cm, annot=True, fmt='d', cmap='Blues')\n",
    "plt.xlabel('Predicción')\n",
    "plt.ylabel('Verdadero')\n",
    "plt.title('Matriz de Confusión')\n",
    "plt.show()\n"
   ]
  },
  {
   "cell_type": "code",
   "execution_count": null,
   "id": "4a069ffb-031f-4090-8c85-a965f3ce1efb",
   "metadata": {},
   "outputs": [],
   "source": [
    "import pandas as pd\n",
    "\n",
    "feature_importances = pd.DataFrame(\n",
    "    model.feature_importances_,\n",
    "    index=X.columns,\n",
    "    columns=[\"Importancia\"]\n",
    ").sort_values(by=\"Importancia\", ascending=False)\n",
    "\n",
    "print(feature_importances.head(10))  # Mostrar las 10 características más importantes\n"
   ]
  },
  {
   "cell_type": "code",
   "execution_count": null,
   "id": "2dd57f3b-7658-4c2a-b732-d1e6ab29a5a7",
   "metadata": {},
   "outputs": [],
   "source": [
    "# Crear un DataFrame comparativo\n",
    "predicciones_df = pd.DataFrame({\n",
    "    'Verdadero': y_test,\n",
    "    'Predicho': y_pred\n",
    "})\n",
    "\n",
    "# Mostrar algunas filas\n",
    "print(predicciones_df.head(10))\n"
   ]
  },
  {
   "cell_type": "code",
   "execution_count": null,
   "id": "35ba6bff-d69f-47a4-855d-a3966de49980",
   "metadata": {},
   "outputs": [],
   "source": [
    "X = X.fillna(0)  # Reemplazar los valores nulos con 0, o puedes usar otro valor adecuado\n",
    "print(df.dtypes)\n"
   ]
  },
  {
   "cell_type": "code",
   "execution_count": null,
   "id": "ba029d32-a856-44bd-9236-d91fa167f7f3",
   "metadata": {},
   "outputs": [],
   "source": [
    "# Copia del DataFrame original para evitar modificaciones no deseadas\n",
    "cr = cash_request.copy()\n",
    "cr.info()"
   ]
  },
  {
   "cell_type": "code",
   "execution_count": null,
   "id": "f3c6fbfe-34fa-47f9-9f88-08fca76a5163",
   "metadata": {},
   "outputs": [],
   "source": [
    "# Convertir las fechas de interés a tipo datetime para facilitar su manipulación\n",
    "cr['created_at'] = pd.to_datetime(cr['created_at'])\n",
    "cr.head()"
   ]
  },
  {
   "cell_type": "code",
   "execution_count": null,
   "id": "c696cf53-3b7d-4bee-8d5f-7385ae101924",
   "metadata": {},
   "outputs": [],
   "source": [
    "# Crear una columna 'Mes' que represente el mes de la solicitud de adelanto en efectivo de cada cliente\n",
    "cr['Mes'] = cr['created_at'].dt.to_period('M')\n",
    "cr.head()"
   ]
  },
  {
   "cell_type": "code",
   "execution_count": null,
   "id": "681b4a87-a947-4db4-80ac-c195d8415572",
   "metadata": {},
   "outputs": [],
   "source": [
    "# Crear una columna 'Cohorte' que represente el mes de la primera solicitud de adelanto en efectivo de cada cliente\n",
    "cr['Cohorte'] = cr.groupby('user_id')['created_at'].transform('min').dt.to_period('M')\n",
    "cr.head(10)"
   ]
  },
  {
   "cell_type": "code",
   "execution_count": null,
   "id": "ac1d1e44-8683-4e90-bd31-ad59bfb6949f",
   "metadata": {},
   "outputs": [],
   "source": [
    "# Calcular el total de monto del adelanto en efectivo por mes para cada cohorte\n",
    "cohort_data = cr.groupby('Cohorte')['amount'].sum().reset_index()\n",
    "cohort_data"
   ]
  },
  {
   "cell_type": "code",
   "execution_count": null,
   "id": "f6fe7737-bc0c-460b-802f-13708f0d9707",
   "metadata": {},
   "outputs": [],
   "source": [
    "# Calcular la cantidad de clientes únicos en cada cohorte\n",
    "cohort_sizes = cr.groupby('Cohorte').agg(Num_Clientes=('user_id', 'nunique')).reset_index()\n",
    "cohort_sizes"
   ]
  },
  {
   "cell_type": "code",
   "execution_count": null,
   "id": "44bff261-ac3b-4f14-8727-a065414bd2c3",
   "metadata": {},
   "outputs": [],
   "source": [
    "# Calcular la cantidad de solicutes de adelanto de efectivo de los clientes de cada cohorte en cada mes\n",
    "cohort_sizes_monthly = cr.groupby(['Cohorte', 'Mes']).agg(Num_Clientes=('user_id', 'nunique')).reset_index()\n",
    "cohort_sizes_monthly"
   ]
  },
  {
   "cell_type": "code",
   "execution_count": null,
   "id": "88db2c72-e722-4527-892a-b6d4158eaa5d",
   "metadata": {},
   "outputs": [],
   "source": [
    "# Calcular la cantidad de clientes en la primera solicitud de adelanto en efectivo de cada cohorte\n",
    "cohort_sizes_initial = cohort_sizes_monthly.groupby('Cohorte').first()\n",
    "cohort_sizes_initial"
   ]
  },
  {
   "cell_type": "code",
   "execution_count": null,
   "id": "159f8bd3-ec22-4a03-aef8-728c203d2caf",
   "metadata": {},
   "outputs": [],
   "source": [
    "# Calcular la tasa de retención\n",
    "retention = cohort_sizes_monthly.pivot(index='Cohorte', columns='Mes', values='Num_Clientes').div(cohort_sizes_initial['Num_Clientes'], axis=0)\n",
    "retention"
   ]
  },
  {
   "cell_type": "code",
   "execution_count": null,
   "id": "2bfaddf4-e69c-4290-b680-e94a1f9fdd5a",
   "metadata": {},
   "outputs": [],
   "source": [
    "# Graficar la tasa de retención\n",
    "plt.figure(figsize=(10, 8))\n",
    "plt.title('Tasa de Retención por Cohorte')\n",
    "sns.heatmap(data=retention, annot=True, fmt='.0%', vmin=0.0, vmax=1.0, cmap='BuGn')\n",
    "plt.xlabel('Meses desde la primera solicitud de adelanto en efectivo')\n",
    "plt.ylabel('Cohorte')\n",
    "plt.show()"
   ]
  },
  {
   "cell_type": "code",
   "execution_count": null,
   "id": "d99b26bc-00a9-4472-9605-d9868b791983",
   "metadata": {},
   "outputs": [],
   "source": []
  }
 ],
 "metadata": {
  "kernelspec": {
   "display_name": "Python 3 (ipykernel)",
   "language": "python",
   "name": "python3"
  },
  "language_info": {
   "codemirror_mode": {
    "name": "ipython",
    "version": 3
   },
   "file_extension": ".py",
   "mimetype": "text/x-python",
   "name": "python",
   "nbconvert_exporter": "python",
   "pygments_lexer": "ipython3",
   "version": "3.12.7"
  }
 },
 "nbformat": 4,
 "nbformat_minor": 5
}
